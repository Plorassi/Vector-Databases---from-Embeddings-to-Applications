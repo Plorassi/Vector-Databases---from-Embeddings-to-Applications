{
 "cells": [
  {
   "cell_type": "markdown",
   "id": "9bc9c89e-3174-40bd-9885-e12339b11691",
   "metadata": {},
   "source": [
    "# Applications"
   ]
  },
  {
   "cell_type": "code",
   "execution_count": 1,
   "id": "dfd47055-fe5e-4d2a-83e2-27ae8afdbdfc",
   "metadata": {
    "height": 47
   },
   "outputs": [],
   "source": [
    "def json_print(data):\n",
    "    print(json.dumps(data, indent=2))"
   ]
  },
  {
   "cell_type": "code",
   "execution_count": 2,
   "id": "8f840bfe-d592-414e-90ce-a04dfc3cd87e",
   "metadata": {
    "height": 302
   },
   "outputs": [
    {
     "ename": "ImportError",
     "evalue": "cannot import name 'URL' from 'yarl' (/usr/local/lib/python3.9/site-packages/yarl/__init__.py)",
     "output_type": "error",
     "traceback": [
      "\u001b[0;31m---------------------------------------------------------------------------\u001b[0m",
      "\u001b[0;31mImportError\u001b[0m                               Traceback (most recent call last)",
      "Cell \u001b[0;32mIn[2], line 2\u001b[0m\n\u001b[1;32m      1\u001b[0m \u001b[38;5;28;01mimport\u001b[39;00m \u001b[38;5;21;01mweaviate\u001b[39;00m\u001b[38;5;241m,\u001b[39m \u001b[38;5;21;01mos\u001b[39;00m\u001b[38;5;241m,\u001b[39m \u001b[38;5;21;01mjson\u001b[39;00m\n\u001b[0;32m----> 2\u001b[0m \u001b[38;5;28;01mimport\u001b[39;00m \u001b[38;5;21;01mopenai\u001b[39;00m\n\u001b[1;32m      3\u001b[0m \u001b[38;5;28;01mfrom\u001b[39;00m \u001b[38;5;21;01mdotenv\u001b[39;00m \u001b[38;5;28;01mimport\u001b[39;00m load_dotenv, find_dotenv\n\u001b[1;32m      4\u001b[0m _ \u001b[38;5;241m=\u001b[39m load_dotenv(find_dotenv()) \u001b[38;5;66;03m# read local .env file\u001b[39;00m\n",
      "File \u001b[0;32m/usr/local/lib/python3.9/site-packages/openai/__init__.py:15\u001b[0m\n\u001b[1;32m     11\u001b[0m \u001b[38;5;28;01mif\u001b[39;00m \u001b[38;5;124m\"\u001b[39m\u001b[38;5;124mpkg_resources\u001b[39m\u001b[38;5;124m\"\u001b[39m \u001b[38;5;129;01mnot\u001b[39;00m \u001b[38;5;129;01min\u001b[39;00m sys\u001b[38;5;241m.\u001b[39mmodules:\n\u001b[1;32m     12\u001b[0m     \u001b[38;5;66;03m# workaround for the following:\u001b[39;00m\n\u001b[1;32m     13\u001b[0m     \u001b[38;5;66;03m# https://github.com/benoitc/gunicorn/pull/2539\u001b[39;00m\n\u001b[1;32m     14\u001b[0m     sys\u001b[38;5;241m.\u001b[39mmodules[\u001b[38;5;124m\"\u001b[39m\u001b[38;5;124mpkg_resources\u001b[39m\u001b[38;5;124m\"\u001b[39m] \u001b[38;5;241m=\u001b[39m \u001b[38;5;28mobject\u001b[39m()  \u001b[38;5;66;03m# type: ignore[assignment]\u001b[39;00m\n\u001b[0;32m---> 15\u001b[0m     \u001b[38;5;28;01mimport\u001b[39;00m \u001b[38;5;21;01maiohttp\u001b[39;00m\n\u001b[1;32m     17\u001b[0m     \u001b[38;5;28;01mdel\u001b[39;00m sys\u001b[38;5;241m.\u001b[39mmodules[\u001b[38;5;124m\"\u001b[39m\u001b[38;5;124mpkg_resources\u001b[39m\u001b[38;5;124m\"\u001b[39m]\n\u001b[1;32m     19\u001b[0m \u001b[38;5;28;01mfrom\u001b[39;00m \u001b[38;5;21;01mopenai\u001b[39;00m\u001b[38;5;21;01m.\u001b[39;00m\u001b[38;5;21;01mapi_resources\u001b[39;00m \u001b[38;5;28;01mimport\u001b[39;00m (\n\u001b[1;32m     20\u001b[0m     Audio,\n\u001b[1;32m     21\u001b[0m     ChatCompletion,\n\u001b[0;32m   (...)\u001b[0m\n\u001b[1;32m     34\u001b[0m     Moderation,\n\u001b[1;32m     35\u001b[0m )\n",
      "File \u001b[0;32m/usr/local/lib/python3.9/site-packages/aiohttp/__init__.py:6\u001b[0m\n\u001b[1;32m      3\u001b[0m \u001b[38;5;28;01mfrom\u001b[39;00m \u001b[38;5;21;01mtyping\u001b[39;00m \u001b[38;5;28;01mimport\u001b[39;00m TYPE_CHECKING, Tuple\n\u001b[1;32m      5\u001b[0m \u001b[38;5;28;01mfrom\u001b[39;00m \u001b[38;5;21;01m.\u001b[39;00m \u001b[38;5;28;01mimport\u001b[39;00m hdrs \u001b[38;5;28;01mas\u001b[39;00m hdrs\n\u001b[0;32m----> 6\u001b[0m \u001b[38;5;28;01mfrom\u001b[39;00m \u001b[38;5;21;01m.\u001b[39;00m\u001b[38;5;21;01mclient\u001b[39;00m \u001b[38;5;28;01mimport\u001b[39;00m (\n\u001b[1;32m      7\u001b[0m     BaseConnector \u001b[38;5;28;01mas\u001b[39;00m BaseConnector,\n\u001b[1;32m      8\u001b[0m     ClientConnectionError \u001b[38;5;28;01mas\u001b[39;00m ClientConnectionError,\n\u001b[1;32m      9\u001b[0m     ClientConnectorCertificateError \u001b[38;5;28;01mas\u001b[39;00m ClientConnectorCertificateError,\n\u001b[1;32m     10\u001b[0m     ClientConnectorError \u001b[38;5;28;01mas\u001b[39;00m ClientConnectorError,\n\u001b[1;32m     11\u001b[0m     ClientConnectorSSLError \u001b[38;5;28;01mas\u001b[39;00m ClientConnectorSSLError,\n\u001b[1;32m     12\u001b[0m     ClientError \u001b[38;5;28;01mas\u001b[39;00m ClientError,\n\u001b[1;32m     13\u001b[0m     ClientHttpProxyError \u001b[38;5;28;01mas\u001b[39;00m ClientHttpProxyError,\n\u001b[1;32m     14\u001b[0m     ClientOSError \u001b[38;5;28;01mas\u001b[39;00m ClientOSError,\n\u001b[1;32m     15\u001b[0m     ClientPayloadError \u001b[38;5;28;01mas\u001b[39;00m ClientPayloadError,\n\u001b[1;32m     16\u001b[0m     ClientProxyConnectionError \u001b[38;5;28;01mas\u001b[39;00m ClientProxyConnectionError,\n\u001b[1;32m     17\u001b[0m     ClientRequest \u001b[38;5;28;01mas\u001b[39;00m ClientRequest,\n\u001b[1;32m     18\u001b[0m     ClientResponse \u001b[38;5;28;01mas\u001b[39;00m ClientResponse,\n\u001b[1;32m     19\u001b[0m     ClientResponseError \u001b[38;5;28;01mas\u001b[39;00m ClientResponseError,\n\u001b[1;32m     20\u001b[0m     ClientSession \u001b[38;5;28;01mas\u001b[39;00m ClientSession,\n\u001b[1;32m     21\u001b[0m     ClientSSLError \u001b[38;5;28;01mas\u001b[39;00m ClientSSLError,\n\u001b[1;32m     22\u001b[0m     ClientTimeout \u001b[38;5;28;01mas\u001b[39;00m ClientTimeout,\n\u001b[1;32m     23\u001b[0m     ClientWebSocketResponse \u001b[38;5;28;01mas\u001b[39;00m ClientWebSocketResponse,\n\u001b[1;32m     24\u001b[0m     ContentTypeError \u001b[38;5;28;01mas\u001b[39;00m ContentTypeError,\n\u001b[1;32m     25\u001b[0m     Fingerprint \u001b[38;5;28;01mas\u001b[39;00m Fingerprint,\n\u001b[1;32m     26\u001b[0m     InvalidURL \u001b[38;5;28;01mas\u001b[39;00m InvalidURL,\n\u001b[1;32m     27\u001b[0m     NamedPipeConnector \u001b[38;5;28;01mas\u001b[39;00m NamedPipeConnector,\n\u001b[1;32m     28\u001b[0m     RequestInfo \u001b[38;5;28;01mas\u001b[39;00m RequestInfo,\n\u001b[1;32m     29\u001b[0m     ServerConnectionError \u001b[38;5;28;01mas\u001b[39;00m ServerConnectionError,\n\u001b[1;32m     30\u001b[0m     ServerDisconnectedError \u001b[38;5;28;01mas\u001b[39;00m ServerDisconnectedError,\n\u001b[1;32m     31\u001b[0m     ServerFingerprintMismatch \u001b[38;5;28;01mas\u001b[39;00m ServerFingerprintMismatch,\n\u001b[1;32m     32\u001b[0m     ServerTimeoutError \u001b[38;5;28;01mas\u001b[39;00m ServerTimeoutError,\n\u001b[1;32m     33\u001b[0m     TCPConnector \u001b[38;5;28;01mas\u001b[39;00m TCPConnector,\n\u001b[1;32m     34\u001b[0m     TooManyRedirects \u001b[38;5;28;01mas\u001b[39;00m TooManyRedirects,\n\u001b[1;32m     35\u001b[0m     UnixConnector \u001b[38;5;28;01mas\u001b[39;00m UnixConnector,\n\u001b[1;32m     36\u001b[0m     WSServerHandshakeError \u001b[38;5;28;01mas\u001b[39;00m WSServerHandshakeError,\n\u001b[1;32m     37\u001b[0m     request \u001b[38;5;28;01mas\u001b[39;00m request,\n\u001b[1;32m     38\u001b[0m )\n\u001b[1;32m     39\u001b[0m \u001b[38;5;28;01mfrom\u001b[39;00m \u001b[38;5;21;01m.\u001b[39;00m\u001b[38;5;21;01mcookiejar\u001b[39;00m \u001b[38;5;28;01mimport\u001b[39;00m CookieJar \u001b[38;5;28;01mas\u001b[39;00m CookieJar, DummyCookieJar \u001b[38;5;28;01mas\u001b[39;00m DummyCookieJar\n\u001b[1;32m     40\u001b[0m \u001b[38;5;28;01mfrom\u001b[39;00m \u001b[38;5;21;01m.\u001b[39;00m\u001b[38;5;21;01mformdata\u001b[39;00m \u001b[38;5;28;01mimport\u001b[39;00m FormData \u001b[38;5;28;01mas\u001b[39;00m FormData\n",
      "File \u001b[0;32m/usr/local/lib/python3.9/site-packages/aiohttp/client.py:36\u001b[0m\n\u001b[1;32m     34\u001b[0m \u001b[38;5;28;01mimport\u001b[39;00m \u001b[38;5;21;01mattr\u001b[39;00m\n\u001b[1;32m     35\u001b[0m \u001b[38;5;28;01mfrom\u001b[39;00m \u001b[38;5;21;01mmultidict\u001b[39;00m \u001b[38;5;28;01mimport\u001b[39;00m CIMultiDict, MultiDict, MultiDictProxy, istr\n\u001b[0;32m---> 36\u001b[0m \u001b[38;5;28;01mfrom\u001b[39;00m \u001b[38;5;21;01myarl\u001b[39;00m \u001b[38;5;28;01mimport\u001b[39;00m URL\n\u001b[1;32m     38\u001b[0m \u001b[38;5;28;01mfrom\u001b[39;00m \u001b[38;5;21;01m.\u001b[39;00m \u001b[38;5;28;01mimport\u001b[39;00m hdrs, http, payload\n\u001b[1;32m     39\u001b[0m \u001b[38;5;28;01mfrom\u001b[39;00m \u001b[38;5;21;01m.\u001b[39;00m\u001b[38;5;21;01mabc\u001b[39;00m \u001b[38;5;28;01mimport\u001b[39;00m AbstractCookieJar\n",
      "\u001b[0;31mImportError\u001b[0m: cannot import name 'URL' from 'yarl' (/usr/local/lib/python3.9/site-packages/yarl/__init__.py)"
     ]
    }
   ],
   "source": [
    "import weaviate, os, json\n",
    "import openai\n",
    "from dotenv import load_dotenv, find_dotenv\n",
    "_ = load_dotenv(find_dotenv()) # read local .env file\n",
    "\n",
    "auth_config = weaviate.auth.AuthApiKey(api_key=os.getenv(\"WEAVIATE_API_KEY\"))\n",
    "\n",
    "client = weaviate.Client(\n",
    "    url=os.getenv(\"WEAVIATE_API_URL\"),\n",
    "    auth_client_secret=auth_config,\n",
    "    additional_headers={\n",
    "        \"X-Cohere-Api-Key\": os.getenv(\"COHERE_API_KEY\"),\n",
    "        \"X-Cohere-BaseURL\": os.getenv(\"CO_API_URL\")\n",
    "    }\n",
    ")\n",
    "\n",
    "client.is_ready() #check if True"
   ]
  },
  {
   "cell_type": "markdown",
   "id": "7226230a-0070-4083-8d21-f2b0a7297ba4",
   "metadata": {},
   "source": [
    "### 2. How many vectors are stored in this database"
   ]
  },
  {
   "cell_type": "code",
   "execution_count": null,
   "id": "c25dd1d9-004e-47bf-9e4d-dc0ed837ccac",
   "metadata": {
    "height": 30
   },
   "outputs": [],
   "source": [
    "print(json.dumps(client.query.aggregate(\"Wikipedia\").with_meta_count().do(), indent=2))"
   ]
  },
  {
   "cell_type": "markdown",
   "id": "e25de586-0e84-4658-9acf-4d39a09755bb",
   "metadata": {},
   "source": [
    "### 3. Perform search over them to find concepts you are interested in!"
   ]
  },
  {
   "cell_type": "code",
   "execution_count": null,
   "id": "c2580bd6-6d7a-40e8-b301-1a656bc3b95c",
   "metadata": {
    "height": 149
   },
   "outputs": [],
   "source": [
    "response = (client.query\n",
    "            .get(\"Wikipedia\",['text','title','url','views','lang'])\n",
    "            .with_near_text({\"concepts\": \"Vacation spots in california\"})\n",
    "            .with_limit(5)\n",
    "            .do()\n",
    "           )\n",
    "\n",
    "json_print(response)"
   ]
  },
  {
   "cell_type": "code",
   "execution_count": null,
   "id": "1b27c2ba-c8fe-40e1-8457-5c7217bf28e2",
   "metadata": {
    "height": 234
   },
   "outputs": [],
   "source": [
    "response = (client.query\n",
    "            .get(\"Wikipedia\",['text','title','url','views','lang'])\n",
    "            .with_near_text({\"concepts\": \"Vacation spots in california\"})\n",
    "            .with_where({\n",
    "                \"path\" : ['lang'],\n",
    "                \"operator\" : \"Equal\",\n",
    "                \"valueString\":'en'\n",
    "            })\n",
    "            .with_limit(3)\n",
    "            .do()\n",
    "           )\n",
    "\n",
    "json_print(response)"
   ]
  },
  {
   "cell_type": "code",
   "execution_count": null,
   "id": "efc9d5cc-66e8-4650-8de0-331e899fb123",
   "metadata": {
    "height": 234
   },
   "outputs": [],
   "source": [
    "response = (client.query\n",
    "            .get(\"Wikipedia\",['text','title','url','views','lang'])\n",
    "            .with_near_text({\"concepts\": \"Miejsca na wakacje w Kalifornii\"})\n",
    "            .with_where({\n",
    "                \"path\" : ['lang'],\n",
    "                \"operator\" : \"Equal\",\n",
    "                \"valueString\":'en'\n",
    "            })\n",
    "            .with_limit(3)\n",
    "            .do()\n",
    "           )\n",
    "\n",
    "json_print(response)"
   ]
  },
  {
   "cell_type": "code",
   "execution_count": null,
   "id": "1290303f-6833-4737-acf3-8ded3144aaaa",
   "metadata": {
    "height": 234
   },
   "outputs": [],
   "source": [
    "response = (client.query\n",
    "            .get(\"Wikipedia\",['text','title','url','views','lang'])\n",
    "            .with_near_text({\"concepts\": \"أماكن العطلات في كاليفورنيا\"})\n",
    "            .with_where({\n",
    "                \"path\" : ['lang'],\n",
    "                \"operator\" : \"Equal\",\n",
    "                \"valueString\":'en'\n",
    "            })\n",
    "            .with_limit(3)\n",
    "            .do()\n",
    "           )\n",
    "\n",
    "json_print(response)"
   ]
  },
  {
   "cell_type": "markdown",
   "id": "1756b652-257d-4cca-95e3-f40870884113",
   "metadata": {},
   "source": [
    "## Retrieval Augmented Generation"
   ]
  },
  {
   "cell_type": "markdown",
   "id": "14074da1-1038-4fad-8241-1ba8db8200a2",
   "metadata": {},
   "source": [
    "### Single Prompt"
   ]
  },
  {
   "cell_type": "code",
   "execution_count": null,
   "id": "4d40ce8d-a785-4f47-9497-5cc102ec4349",
   "metadata": {
    "height": 217
   },
   "outputs": [],
   "source": [
    "prompt = \"Write me a facebook ad about {title} using information inside {text}\"\n",
    "result = (\n",
    "  client.query\n",
    "  .get(\"Wikipedia\", [\"title\",\"text\"])\n",
    "  .with_generate(single_prompt=prompt)\n",
    "  .with_near_text({\n",
    "    \"concepts\": [\"Vacation spots in california\"]\n",
    "  })\n",
    "  .with_limit(3)\n",
    ").do()\n",
    "\n",
    "json_print(result)"
   ]
  },
  {
   "cell_type": "markdown",
   "id": "2b3a82f0-89e8-4ddb-8973-1bc84d3e10ee",
   "metadata": {},
   "source": [
    "### Group Task"
   ]
  },
  {
   "cell_type": "code",
   "execution_count": null,
   "id": "06097742-ed4b-4a6f-94a3-3c85d2bbba0c",
   "metadata": {
    "height": 251
   },
   "outputs": [],
   "source": [
    "generate_prompt = \"Summarize what these posts are about in two paragraphs.\"\n",
    "\n",
    "result = (\n",
    "  client.query\n",
    "  .get(\"Wikipedia\", [\"title\",\"text\"])\n",
    "  .with_generate(grouped_task=generate_prompt) # Pass in all objects at once\n",
    "  .with_near_text({\n",
    "    \"concepts\": [\"Vacation spots in california\"]\n",
    "  })\n",
    "  .with_limit(3)\n",
    ").do()\n",
    "\n",
    "json_print(result)\n"
   ]
  },
  {
   "cell_type": "code",
   "execution_count": null,
   "id": "3529614d-8354-43be-87de-46bd9728781e",
   "metadata": {
    "height": 30
   },
   "outputs": [],
   "source": []
  },
  {
   "cell_type": "code",
   "execution_count": null,
   "id": "3bc5b056-8d34-4fe3-8cf7-467050a3d1bb",
   "metadata": {
    "height": 30
   },
   "outputs": [],
   "source": []
  },
  {
   "cell_type": "code",
   "execution_count": null,
   "id": "20f4c1c1-7406-463e-a8af-164c82e9a31e",
   "metadata": {
    "height": 30
   },
   "outputs": [],
   "source": []
  },
  {
   "cell_type": "code",
   "execution_count": null,
   "id": "85c1e824-98bf-4e80-b460-1e511ea63595",
   "metadata": {
    "height": 30
   },
   "outputs": [],
   "source": []
  },
  {
   "cell_type": "code",
   "execution_count": null,
   "id": "a45dc13f-a183-48ed-8c7c-e62160103f9c",
   "metadata": {
    "height": 30
   },
   "outputs": [],
   "source": []
  },
  {
   "cell_type": "code",
   "execution_count": null,
   "id": "0ffc52d9-3a8d-4104-98ef-b520aaba2494",
   "metadata": {
    "height": 30
   },
   "outputs": [],
   "source": []
  },
  {
   "cell_type": "code",
   "execution_count": null,
   "id": "60ce5c96-41df-4a98-a647-5895074c451e",
   "metadata": {
    "height": 30
   },
   "outputs": [],
   "source": []
  },
  {
   "cell_type": "code",
   "execution_count": null,
   "id": "294ac8ca-8a18-4641-8859-ce12b6abdcd1",
   "metadata": {
    "height": 30
   },
   "outputs": [],
   "source": []
  },
  {
   "cell_type": "code",
   "execution_count": null,
   "id": "fbd90f59-e48f-4a2a-9528-c7cf6ae693ff",
   "metadata": {
    "height": 30
   },
   "outputs": [],
   "source": []
  },
  {
   "cell_type": "code",
   "execution_count": null,
   "id": "4065f442-6b70-44eb-80ea-87d01909a075",
   "metadata": {
    "height": 30
   },
   "outputs": [],
   "source": []
  },
  {
   "cell_type": "code",
   "execution_count": null,
   "id": "fc0bfd03-aa29-47e8-8d8b-dc79a8b7e48e",
   "metadata": {
    "height": 30
   },
   "outputs": [],
   "source": []
  },
  {
   "cell_type": "code",
   "execution_count": null,
   "id": "98248c4e-080c-457e-82f9-a0305d9649ae",
   "metadata": {
    "height": 30
   },
   "outputs": [],
   "source": []
  },
  {
   "cell_type": "code",
   "execution_count": null,
   "id": "2bf8a650-4afb-461d-a8ce-cfbc333ba778",
   "metadata": {
    "height": 30
   },
   "outputs": [],
   "source": []
  },
  {
   "cell_type": "code",
   "execution_count": null,
   "id": "bc31c387-a0d6-4967-8ef0-84c883f31c3a",
   "metadata": {
    "height": 30
   },
   "outputs": [],
   "source": []
  },
  {
   "cell_type": "code",
   "execution_count": null,
   "id": "c4933328-d1bc-421f-a54f-f63294450177",
   "metadata": {
    "height": 30
   },
   "outputs": [],
   "source": []
  },
  {
   "cell_type": "code",
   "execution_count": null,
   "id": "564a167e-83b9-4023-aa63-ddfd9a2aab5e",
   "metadata": {
    "height": 30
   },
   "outputs": [],
   "source": []
  },
  {
   "cell_type": "code",
   "execution_count": null,
   "id": "0d26d6a6-da0c-4f6e-9a38-fc9770dc6a36",
   "metadata": {
    "height": 30
   },
   "outputs": [],
   "source": []
  },
  {
   "cell_type": "code",
   "execution_count": null,
   "id": "416d1878-295d-479a-acfc-dfd6bf418f7d",
   "metadata": {
    "height": 30
   },
   "outputs": [],
   "source": []
  },
  {
   "cell_type": "code",
   "execution_count": null,
   "id": "2d5e6329-8a93-4a53-9d4e-d1fa89610ff9",
   "metadata": {
    "height": 30
   },
   "outputs": [],
   "source": []
  },
  {
   "cell_type": "code",
   "execution_count": null,
   "id": "0543e1f7-3005-4347-93ad-d072480f8caa",
   "metadata": {
    "height": 30
   },
   "outputs": [],
   "source": []
  },
  {
   "cell_type": "code",
   "execution_count": null,
   "id": "6f40fb43-4d53-4096-b229-9f1ca2fd1bb3",
   "metadata": {
    "height": 30
   },
   "outputs": [],
   "source": []
  },
  {
   "cell_type": "code",
   "execution_count": null,
   "id": "514f4349-0102-442b-ab6a-0a045e5522d4",
   "metadata": {
    "height": 30
   },
   "outputs": [],
   "source": []
  },
  {
   "cell_type": "code",
   "execution_count": null,
   "id": "725b34bf-5853-4f39-890b-4da9f3852343",
   "metadata": {
    "height": 30
   },
   "outputs": [],
   "source": []
  },
  {
   "cell_type": "code",
   "execution_count": null,
   "id": "1cbb7c9f-8c11-4809-b7b0-f85a4a922115",
   "metadata": {
    "height": 30
   },
   "outputs": [],
   "source": []
  },
  {
   "cell_type": "code",
   "execution_count": null,
   "id": "6a0bf6a0-944b-4fbb-aec1-d01cd587b4dc",
   "metadata": {
    "height": 30
   },
   "outputs": [],
   "source": []
  },
  {
   "cell_type": "code",
   "execution_count": null,
   "id": "62a5940d-cfea-4ae4-be24-399a1e8f8661",
   "metadata": {
    "height": 30
   },
   "outputs": [],
   "source": []
  },
  {
   "cell_type": "code",
   "execution_count": null,
   "id": "f15cec08-fb7c-494e-a4dc-c26c9ad2bf10",
   "metadata": {
    "height": 30
   },
   "outputs": [],
   "source": []
  },
  {
   "cell_type": "code",
   "execution_count": null,
   "id": "9a16dcb6-f109-42fc-b42f-06a76f32e7bd",
   "metadata": {
    "height": 30
   },
   "outputs": [],
   "source": []
  },
  {
   "cell_type": "code",
   "execution_count": null,
   "id": "8998c471-91d7-4578-9df1-a5661992121f",
   "metadata": {
    "height": 30
   },
   "outputs": [],
   "source": []
  },
  {
   "cell_type": "code",
   "execution_count": null,
   "id": "e4cbd8a7-0fac-47ae-bbf6-b4306b9e008e",
   "metadata": {
    "height": 30
   },
   "outputs": [],
   "source": []
  },
  {
   "cell_type": "code",
   "execution_count": null,
   "id": "7d9bd003-2dd7-431e-9d58-a38c090aa72b",
   "metadata": {
    "height": 30
   },
   "outputs": [],
   "source": []
  },
  {
   "cell_type": "code",
   "execution_count": null,
   "id": "e2135808-4fb6-4f47-bac4-5b30f80c8d91",
   "metadata": {
    "height": 30
   },
   "outputs": [],
   "source": []
  },
  {
   "cell_type": "code",
   "execution_count": null,
   "id": "91b11892-bcdc-434a-92da-f5633e865035",
   "metadata": {
    "height": 30
   },
   "outputs": [],
   "source": []
  },
  {
   "cell_type": "code",
   "execution_count": null,
   "id": "5b37bcd4-c948-4b78-989c-04a50844381b",
   "metadata": {
    "height": 30
   },
   "outputs": [],
   "source": []
  },
  {
   "cell_type": "code",
   "execution_count": null,
   "id": "34fffd7f-58fc-4f23-b009-b8d4b0622844",
   "metadata": {
    "height": 30
   },
   "outputs": [],
   "source": []
  },
  {
   "cell_type": "code",
   "execution_count": null,
   "id": "79f2935e-f4c7-48e7-b9f9-02861f4db3f5",
   "metadata": {
    "height": 30
   },
   "outputs": [],
   "source": []
  }
 ],
 "metadata": {
  "kernelspec": {
   "display_name": "Python 3 (ipykernel)",
   "language": "python",
   "name": "python3"
  },
  "language_info": {
   "codemirror_mode": {
    "name": "ipython",
    "version": 3
   },
   "file_extension": ".py",
   "mimetype": "text/x-python",
   "name": "python",
   "nbconvert_exporter": "python",
   "pygments_lexer": "ipython3",
   "version": "3.9.19"
  }
 },
 "nbformat": 4,
 "nbformat_minor": 5
}
